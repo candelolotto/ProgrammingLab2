{
 "cells": [
  {
   "cell_type": "markdown",
   "metadata": {},
   "source": [
    "### **1. Trasformare cicli in list comprehension**\n",
    "\n",
    "Fai tre esempi di cicli producono una lista e poi riscrivi lo stesso codice usando la list comprehension"
   ]
  },
  {
   "cell_type": "code",
   "execution_count": 4,
   "metadata": {},
   "outputs": [
    {
     "name": "stdout",
     "output_type": "stream",
     "text": [
      "[0, 2, 4, 6, 8, 10, 12, 14]\n",
      "[0, 2, 4, 6, 8, 10, 12, 14]\n",
      "['ciao', 'ape', 'pace', 'mano']\n",
      "['ciao', 'ape', 'pace', 'mano']\n",
      "[0, 1, 8, 27, 64, 125, 216, 343, 512, 729]\n",
      "[0, 1, 8, 27, 64, 125, 216, 343, 512, 729]\n"
     ]
    }
   ],
   "source": [
    "##a - lista dei numeri pari da 0 a 14\n",
    "pari = []\n",
    "for n in range(15):\n",
    "    if n%2 == 0:\n",
    "        pari.append(n)\n",
    "pariC = [n for n in range(15) if n%2==0]\n",
    "\n",
    "print(pari)\n",
    "print(pariC)\n",
    "\n",
    "\n",
    "##b - lista con le stringhe più piccole di 5 caratteri di una lista di stringhe\n",
    "\n",
    "stringhe = [\"ciao\", \"arcobaleno\", \"gatto\", \"ape\", \"pace\", \"mano\", \"bicchiere\" ]\n",
    "minDi5 = []\n",
    "for s in stringhe:\n",
    "    if len(s) < 5:\n",
    "        minDi5.append(s)\n",
    "minDi5C = [s for s in stringhe if len(s) < 5]\n",
    "\n",
    "print(minDi5)\n",
    "print(minDi5C)\n",
    "\n",
    "##c - lista dei cubi dei numeri da 0 a 9\n",
    "\n",
    "cubi = []\n",
    "for n in range(10):\n",
    "    cubi.append(n**3)\n",
    "cubiC = [n**3 for n in range(10)]\n",
    "\n",
    "print(cubi)\n",
    "print(cubiC)"
   ]
  },
  {
   "cell_type": "markdown",
   "metadata": {},
   "source": [
    "### **2. Vettore di Numeri Primi**\n",
    "\n",
    "1. **Crea un vettore** contenente tutti i numeri primi compresi tra **0 e 10**  \n",
    "   _(Puoi scriverli direttamente nell'array)._\n",
    "\n",
    "2. **Conta quanti numeri ci sono nel vettore** utilizzando la funzione `len()`.  **Ottieni lo stesso numero** accedendo all'attributo `.size` del vettore.\n",
    "\n",
    "3. Quale pensi sia il tipo di dato (`dtype`) del vettore?  Prova a rispondere senza eseguire il codice e Verifica la tua risposta accedendo all'attributo `.dtype` del vettore\n",
    "\n",
    "4. Scrivi l'array usando una list comprehension che controlla che i numeri siano primi. "
   ]
  },
  {
   "cell_type": "code",
   "execution_count": 5,
   "metadata": {},
   "outputs": [
    {
     "name": "stdout",
     "output_type": "stream",
     "text": [
      "4\n",
      "4\n",
      "int64\n",
      "[2 3 5 7]\n"
     ]
    }
   ],
   "source": [
    "import numpy as np\n",
    "\n",
    "primi = np.array([2, 3, 5, 7])\n",
    "\n",
    "print(len(primi))\n",
    "print(primi.size)\n",
    "print(primi.dtype)\n",
    "\n",
    "def is_prime(n):\n",
    "    if n <= 1:\n",
    "        return False\n",
    "    for i in range(2, n):\n",
    "        if n % i == 0:\n",
    "            return False\n",
    "    return True \n",
    "primiC = np.array([i for i in range(11) if is_prime(i)])\n",
    "\n",
    "print(primiC)"
   ]
  },
  {
   "cell_type": "markdown",
   "metadata": {},
   "source": [
    "### **3.  Operazioni su array**\n",
    "Crea un array **a**, 1D (senza digitarlo esplicitamente), e genera due nuovi array **b**, contenente una sottostringa a piacere e **c** che è il reverse dell'array **a** (esempio [1,2,3] diventa [3,2,1]) .  Dividi l'array **a** per l'array **c**. Fai la stessa cosa per una lista."
   ]
  },
  {
   "cell_type": "code",
   "execution_count": 6,
   "metadata": {},
   "outputs": [
    {
     "name": "stdout",
     "output_type": "stream",
     "text": [
      "[1 2 3 4 5]\n",
      "[4 5]\n",
      "[5 4 3 2 1]\n",
      "[0.2 0.5 1.  2.  5. ]\n",
      "[1, 2, 3, 4, 5]\n",
      "[4 5]\n",
      "[5, 4, 3, 2, 1]\n",
      "[0.2, 0.5, 1.0, 2.0, 5.0]\n"
     ]
    }
   ],
   "source": [
    "import numpy as np\n",
    "\n",
    "lista = [i for i in range(1,6)]\n",
    "\n",
    "a = np.array(lista)\n",
    "print(a)\n",
    "b = a[3:6]\n",
    "print(b)\n",
    "c = a[::-1]\n",
    "print(c)\n",
    "print(a/c)\n",
    "\n",
    "aa = lista.copy()\n",
    "print(aa)\n",
    "bb = a[3:6]\n",
    "print(bb)\n",
    "cc = aa[::-1]\n",
    "print(cc)\n",
    "#print(aa/cc) -> da errore\n",
    "\n",
    "divisione = [aa[i]/cc[i] for i in range(len(aa))]\n",
    "print(divisione)"
   ]
  }
 ],
 "metadata": {
  "kernelspec": {
   "display_name": "base",
   "language": "python",
   "name": "python3"
  },
  "language_info": {
   "codemirror_mode": {
    "name": "ipython",
    "version": 3
   },
   "file_extension": ".py",
   "mimetype": "text/x-python",
   "name": "python",
   "nbconvert_exporter": "python",
   "pygments_lexer": "ipython3",
   "version": "3.12.3"
  }
 },
 "nbformat": 4,
 "nbformat_minor": 2
}
